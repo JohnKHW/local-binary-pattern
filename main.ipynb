{
 "cells": [
  {
   "cell_type": "code",
   "execution_count": null,
   "metadata": {},
   "outputs": [],
   "source": [
    "import cv2 as cv\n",
    "import numpy as np \n",
    "import math \n",
    "from matplotlib import pyplot as plt "
   ]
  },
  {
   "cell_type": "code",
   "execution_count": null,
   "metadata": {},
   "outputs": [],
   "source": [
    "def get_lbp(img):\n",
    "    result = np.zeros(img.shape, dtype=np.uint8)\n",
    "    for i in range(0, img.shape[0] - 2, 1):\n",
    "        for j in range(0, img.shape[1] - 2, 1):\n",
    "            lbp_matrix = img[i : i + 3, j : j + 3]\n",
    "            lbp_matrix = lbp_matrix.copy()\n",
    "            lbp_matrix[1] = lbp_matrix[1][::-1]\n",
    "            lbp_matrix = np.where(lbp_matrix > lbp_matrix[1, 1], 1, 0)\n",
    "            lbp_matrix = np.delete(lbp_matrix, 4)\n",
    "            \n",
    "            # min_value = bin2dec(lbp_matrix)\n",
    "            min_value = get_min_value(lbp_matrix)\n",
    "            result[i + 1, j + 1] = min_value\n",
    "            # print(lbp_matrix)\n",
    "            # print(min_value)\n",
    "            # print(lbp_matrix.reshape(-1))\n",
    "    return result\n"
   ]
  },
  {
   "cell_type": "code",
   "execution_count": null,
   "metadata": {},
   "outputs": [],
   "source": [
    "# rotate 1d array to get min value in binary\n",
    "def get_min_value(arr):\n",
    "    min_value = math.inf\n",
    "    \n",
    "    # shift array\n",
    "    for i in range(arr.shape[0]):\n",
    "        r = np.roll(arr, 1)\n",
    "        min_value = min(min_value, bin2dec(r))\n",
    "    return min_value\n"
   ]
  },
  {
   "cell_type": "code",
   "execution_count": null,
   "metadata": {},
   "outputs": [],
   "source": [
    "def bin2dec(arr):\n",
    "    return int(''.join(map(lambda x: str(x), arr)), 2)"
   ]
  },
  {
   "cell_type": "code",
   "execution_count": null,
   "metadata": {},
   "outputs": [],
   "source": [
    "def get_histogram(a: np.asarray):\n",
    "    hist = [0] * 256\n",
    "    a = a.ravel()\n",
    "    for i in range(a.size):\n",
    "        hist[a[i]] += 1\n",
    "    return np.asarray(hist)"
   ]
  },
  {
   "cell_type": "code",
   "execution_count": null,
   "metadata": {},
   "outputs": [],
   "source": [
    "# get_lbp(img)\n",
    "# test = [0, 0, 1, 1, 0, 0, 1, 1]\n",
    "# test = np.asarray(test)\n",
    "img = cv.imread(\"./data/images/1.jpg\", 0)\n",
    "rows, cols = map(int, img.shape)\n",
    "print(img.shape)\n",
    "img = cv.pyrDown(img, dstsize=(cols // 2, rows // 2))\n",
    "print(img.shape)\n",
    "\n",
    "result = get_lbp(img)\n",
    "# hist = get_histogram(result)\n",
    "# hist[hist > 50] = 0\n",
    "# print(hist)\n"
   ]
  },
  {
   "cell_type": "code",
   "execution_count": null,
   "metadata": {},
   "outputs": [],
   "source": [
    "plt.imshow(img, \"gray\")\n",
    "plt.axis(\"off\")\n",
    "plt.show()\n",
    "\n",
    "plt.imshow(result, \"gray\")\n",
    "plt.axis(\"off\")\n",
    "plt.show()\n",
    "\n",
    "hist = result.ravel()\n",
    "plt.hist(x=hist, bins=255)\n",
    "plt.show()"
   ]
  }
 ],
 "metadata": {
  "interpreter": {
   "hash": "4e1023cae2847568543767b8822320ac796f1f8d26114a4655cf52e8da66fa95"
  },
  "kernelspec": {
   "display_name": "Python 3.9.12 ('cv_env')",
   "language": "python",
   "name": "python3"
  },
  "language_info": {
   "codemirror_mode": {
    "name": "ipython",
    "version": 3
   },
   "file_extension": ".py",
   "mimetype": "text/x-python",
   "name": "python",
   "nbconvert_exporter": "python",
   "pygments_lexer": "ipython3",
   "version": "3.9.12"
  },
  "orig_nbformat": 4
 },
 "nbformat": 4,
 "nbformat_minor": 2
}
